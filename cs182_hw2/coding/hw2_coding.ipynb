{
 "cells": [
  {
   "cell_type": "markdown",
   "metadata": {},
   "source": [
    "# Homework 2: Linear Regression"
   ]
  },
  {
   "cell_type": "markdown",
   "metadata": {},
   "source": [
    "In this assignment, we will start with utilizing Sci-Kit learn to implement a linear regression model. Afterwards, we will be dropping Sci-Kit learning and implementing these algorithms from scratch without the use of machine learning libraries. While you would likely never have to implement your own linear regression algorithm from scratch in practice, such a skill is valuable to have as you progress further into the field and find many scenarios where you actually may need to perform such implementations manually. Additionally, implementing algorithms from scratch will help you better understand the underlying mathematics behind each model.     "
   ]
  },
  {
   "cell_type": "markdown",
   "metadata": {},
   "source": [
    "## Import Libraries"
   ]
  },
  {
   "cell_type": "markdown",
   "metadata": {},
   "source": [
    "We will be using the following libraries for this homework assignment. For the questions requiring manual implementation, the pre-existing implementations from Sci-Kit Learn should *not* be used."
   ]
  },
  {
   "cell_type": "code",
   "execution_count": 1,
   "metadata": {
    "collapsed": true,
    "scrolled": true
   },
   "outputs": [],
   "source": [
    "import numpy as np\n",
    "import pandas as pd\n",
    "import matplotlib.pyplot as plt\n",
    "import operator\n",
    "%matplotlib inline\n",
    "\n",
    "from sklearn.linear_model import LinearRegression\n",
    "from sklearn.preprocessing import PolynomialFeatures\n",
    "from sklearn.metrics import mean_squared_error"
   ]
  },
  {
   "cell_type": "markdown",
   "metadata": {},
   "source": [
    "## Preparing Data"
   ]
  },
  {
   "cell_type": "markdown",
   "metadata": {
    "collapsed": true
   },
   "source": [
    "The file named **dataset1.csv** includes data that was generated from an n-degree polynomial with some gaussian noise. The data has 2 columns - first column is the feature (input) and the second column is its label (output). The first step is to load the data and split them into training, validation, and test sets. A reminder that the purpose of each of the splitted sets are as follows:\n",
    "\n",
    "* **Training Set**: The sample of data used to fit the model\n",
    "* **Validation Set**: The sample of data used to provide an unbiased evaluation of a model fit on the training dataset while tuning model hyperparameters.\n",
    "* **Test Set**: The sample of data used to provide an unbiased evaluation of a final model fit on the training dataset.\n",
    "\n",
    "In the section below, we load the csv file and split the data randomnly into 3 equal sets. \n",
    "\n",
    "*Note that in practice, we usually aim for around a 70-20-10 split for train, valid, and test respectively, but due to limited data in our case, we will do an even split in order to have sufficient data for evaluation* "
   ]
  },
  {
   "cell_type": "code",
   "execution_count": 2,
   "metadata": {
    "collapsed": true,
    "scrolled": false
   },
   "outputs": [],
   "source": [
    "# Load the data and split into 3 equal sets\n",
    "data = pd.read_csv('dataset1.csv', header=None)\n",
    "data = data.iloc[:, :-1]\n",
    "train, valid, test = np.split(data, [int(.33*len(data)), int(.66*len(data))])\n",
    "\n",
    "# We sort the data in order for plotting purposes later\n",
    "train.sort_values(by=[0], inplace=True)\n",
    "valid.sort_values(by=[0], inplace=True)\n",
    "test.sort_values(by=[0], inplace=True)"
   ]
  },
  {
   "cell_type": "markdown",
   "metadata": {},
   "source": [
    "Let's take a look at what our data looks like"
   ]
  },
  {
   "cell_type": "code",
   "execution_count": 3,
   "metadata": {},
   "outputs": [
    {
     "data": {
      "image/png": "[encoded data removed]",
      "text/plain": [
       "<Figure size 432x288 with 1 Axes>"
      ]
     },
     "metadata": {
      "needs_background": "light"
     },
     "output_type": "display_data"
    }
   ],
   "source": [
    "plt.scatter(train[0], train[1], s=10)\n",
    "plt.show()"
   ]
  },
  {
   "cell_type": "markdown",
   "metadata": {},
   "source": [
    "Let's apply a linear regression model using Sci-Kit learn and see what the results look like."
   ]
  },
  {
   "cell_type": "code",
   "execution_count": 4,
   "metadata": {},
   "outputs": [
    {
     "data": {
      "image/png": "[encoded data removed]",
      "text/plain": [
       "<Figure size 432x288 with 1 Axes>"
      ]
     },
     "metadata": {
      "needs_background": "light"
     },
     "output_type": "display_data"
    }
   ],
   "source": [
    "# Reshape arrays since sci-kit learn only takes in 2D arrays\n",
    "train_x = np.array(train[0])\n",
    "train_y = np.array(train[1])\n",
    "valid_x = np.array(valid[0])\n",
    "valid_y = np.array(valid[1])\n",
    "train_x = train_x.reshape(-1, 1)\n",
    "train_y = train_y.reshape(-1, 1)\n",
    "valid_x = valid_x.reshape(-1, 1)\n",
    "valid_y = valid_y.reshape(-1, 1)\n",
    "\n",
    "# Apply linear regression model\n",
    "model = LinearRegression()\n",
    "model.fit(train_x, train_y)\n",
    "y_pred = model.predict(train_x)\n",
    "\n",
    "# Plot the results\n",
    "plt.scatter(train_x, train_y, s=10)\n",
    "plt.plot(train_x, y_pred, color='r')\n",
    "plt.show()"
   ]
  },
  {
   "cell_type": "markdown",
   "metadata": {},
   "source": [
    "By analyzing the line of best fit above, we can see that a straight line is unable to capture the patterns of the data. This is an example of underfitting. As seen in the latest lecture, we can generate a higher order equation by adding powers of the original features as new features. \n",
    "\n",
    "The linear model,: \n",
    "\n",
    "&nbsp;&nbsp;&nbsp;&nbsp;&nbsp;&nbsp; ** $y(x)$ = $w_1 x$ + $w_0$ ** \n",
    "\n",
    "can be transformed to a polynomial model such as:\n",
    "\n",
    "&nbsp;&nbsp;&nbsp;&nbsp;&nbsp;&nbsp; ** $y(x)$ = $w_2 x^2$ + $w_1 x$ + $w_0$ ** \n",
    "\n",
    "Note that this is still considered to be linear model as the coefficients/weights associated with the features are still linear. x<sup>2</sup> is only a feature. However the curve that we would be fitting in this case is quadratic in nature.\n",
    "\n",
    "Below we show an example of a quadratic curve being fit to the data"
   ]
  },
  {
   "cell_type": "code",
   "execution_count": 5,
   "metadata": {},
   "outputs": [
    {
     "data": {
      "image/png": "[encoded data removed]",
      "text/plain": [
       "<Figure size 432x288 with 1 Axes>"
      ]
     },
     "metadata": {
      "needs_background": "light"
     },
     "output_type": "display_data"
    }
   ],
   "source": [
    "# Create polynomial features with degree 2\n",
    "polynomial_features = PolynomialFeatures(degree=2)\n",
    "x_poly = polynomial_features.fit_transform(train_x)\n",
    "\n",
    "# Apply linear regression\n",
    "model = LinearRegression()\n",
    "model.fit(x_poly, train_y)\n",
    "y_poly_pred = model.predict(x_poly)\n",
    "\n",
    "# Plot the results\n",
    "plt.scatter(train_x, train_y, s=10)\n",
    "plt.plot(train_x, y_poly_pred, color='r')\n",
    "plt.show()"
   ]
  },
  {
   "cell_type": "markdown",
   "metadata": {},
   "source": [
    "As you can see, we get a slightly better fit with a quadratic curve. Let's use the model to make predictions on our validation set and compute the mean squared error, which is the error which we wish to minimize."
   ]
  },
  {
   "cell_type": "code",
   "execution_count": 6,
   "metadata": {},
   "outputs": [
    {
     "name": "stdout",
     "output_type": "stream",
     "text": [
      "Mean Squared Error: 20.485214511024243\n"
     ]
    },
    {
     "data": {
      "image/png": "[encoded data removed]",
      "text/plain": [
       "<Figure size 432x288 with 1 Axes>"
      ]
     },
     "metadata": {
      "needs_background": "light"
     },
     "output_type": "display_data"
    }
   ],
   "source": [
    "# Make predictions using pretrained model\n",
    "valid_y_poly_pred = model.predict(polynomial_features.fit_transform(valid_x))\n",
    "\n",
    "# Calculate mean squared error\n",
    "mse = mean_squared_error(valid_y, valid_y_poly_pred)\n",
    "print(\"Mean Squared Error: {}\".format(mse))\n",
    "\n",
    "# Plot the prediction results\n",
    "plt.scatter(valid_x, valid_y, s=10)\n",
    "plt.plot(valid_x, valid_y_poly_pred, color='r')\n",
    "plt.show()"
   ]
  },
  {
   "cell_type": "markdown",
   "metadata": {},
   "source": [
    "## Question 1: Polynomial Regression Using Sci-Kit Learn [20pts]\n",
    "\n",
    "Now it is your turn! Following the same format as above, implement a 10-degree polynomial regression model on the training data and plot your results. Use your model to predict the output of the validation set and calculate the mean square error. Report and plot the results. \n",
    "\n",
    "Grading policy:\n",
    "\n",
    "- Q1.1 [8pts]\n",
    "    - Fit a 10-degree polynomial using Sci-Kit Learn [2pts]\n",
    "    - Plot your the curve on the training data set [1pt]\n",
    "    - Use model to predict output of validation set [2pts]\n",
    "    - Calculate and report the MSE [2pt]\n",
    "    - Plot the curve on the validation set [1pt]\n",
    "- Q1.2 [2pts]\n",
    "- Q1.3 [8pts]\n",
    "    - Fit a 20-degree polynomial using Sci-Kit Learn[2pts]\n",
    "    - Plot your the curve on the training data set [1pt]\n",
    "    - Use model to predict output of validation set [2pts]\n",
    "    - Calculate and report the MSE [2pts]\n",
    "    - Plot the curve on the validation set [1pt]\n",
    "- Q1.4 [2pts]"
   ]
  },
  {
   "cell_type": "markdown",
   "metadata": {},
   "source": [
    "## Q1.1"
   ]
  },
  {
   "cell_type": "code",
   "execution_count": 28,
   "metadata": {
    "collapsed": true
   },
   "outputs": [
    {
     "name": "stdout",
     "output_type": "stream",
     "text": [
      "Mean Squared Error: 8.60066434175743\n"
     ]
    },
    {
     "data": {
      "image/png": "[encoded data removed]",
      "text/plain": [
       "<Figure size 432x288 with 1 Axes>"
      ]
     },
     "metadata": {
      "needs_background": "light"
     },
     "output_type": "display_data"
    },
    {
     "name": "stdout",
     "output_type": "stream",
     "text": [
      "Mean Squared Error: 13.115190778263523\n"
     ]
    },
    {
     "data": {
      "image/png": "[encoded data removed]",
      "text/plain": [
       "<Figure size 432x288 with 1 Axes>"
      ]
     },
     "metadata": {
      "needs_background": "light"
     },
     "output_type": "display_data"
    }
   ],
   "source": [
    "### YOUR CODE HERE - Fit a 10-degree polynomial using Sci-Kit Learn\n",
    "# Create polynomial features with degree 10\n",
    "polynomial_features = PolynomialFeatures(degree=10)\n",
    "x_poly = polynomial_features.fit_transform(train_x)\n",
    "\n",
    "# Apply linear regression\n",
    "model = LinearRegression()\n",
    "model.fit(x_poly, train_y)\n",
    "y_poly_pred = model.predict(x_poly)\n",
    "\n",
    "\n",
    "### YOUR CODE HERE - Plot your the curve on the training data set\n",
    "# Plot the results\n",
    "mse = mean_squared_error(train_y, y_poly_pred)\n",
    "print(\"Mean Squared Error: {}\".format(mse))\n",
    "plt.scatter(train_x, train_y, s=10)\n",
    "plt.plot(train_x, y_poly_pred, color='r')\n",
    "plt.show()\n",
    "### YOUR CODE HERE - Use model to predict output of validation set\n",
    "# Make predictions using pretrained model\n",
    "valid_y_poly_pred = model.predict(polynomial_features.fit_transform(valid_x))\n",
    "\n",
    "### YOUR CODE HERE - Calculate the MSE. Report and plot the curve on the validation set.\n",
    "# Calculate mean squared error\n",
    "mse = mean_squared_error(valid_y, valid_y_poly_pred)\n",
    "print(\"Mean Squared Error: {}\".format(mse))\n",
    "\n",
    "# Plot the prediction results\n",
    "plt.scatter(valid_x, valid_y, s=10)\n",
    "plt.plot(valid_x, valid_y_poly_pred, color='r')\n",
    "plt.show()"
   ]
  },
  {
   "cell_type": "markdown",
   "metadata": {},
   "source": [
    "## Q1.2"
   ]
  },
  {
   "cell_type": "markdown",
   "metadata": {},
   "source": [
    "#### Did the mean squared error go up or down as compared to the 2-degree polynomial curve? Why do you think this is the case?\n",
    "\n",
    "------- ANSWER HERE -----------\n",
    "\n",
    "Down!\n",
    "As the model is more complex.When degree $=2$, the model is underfiting, it cannot show the relation between the model and the data, so with a large degree $=10$, the squared error is smaller."
   ]
  },
  {
   "cell_type": "markdown",
   "metadata": {},
   "source": [
    "Now repeat the above for a 20-degree polynomial regression model."
   ]
  },
  {
   "cell_type": "markdown",
   "metadata": {},
   "source": [
    "## Q1.3"
   ]
  },
  {
   "cell_type": "code",
   "execution_count": 8,
   "metadata": {
    "collapsed": true
   },
   "outputs": [
    {
     "data": {
      "image/png": "[encoded data removed]",
      "text/plain": [
       "<Figure size 432x288 with 1 Axes>"
      ]
     },
     "metadata": {
      "needs_background": "light"
     },
     "output_type": "display_data"
    },
    {
     "name": "stdout",
     "output_type": "stream",
     "text": [
      "Mean Squared Error: 106.08567942829305\n"
     ]
    },
    {
     "data": {
      "image/png": "[encoded data removed]",
      "text/plain": [
       "<Figure size 432x288 with 1 Axes>"
      ]
     },
     "metadata": {
      "needs_background": "light"
     },
     "output_type": "display_data"
    }
   ],
   "source": [
    "### YOUR CODE HERE - Fit a 20-degree polynomial using Sci-Kit Learn\n",
    "# Create polynomial features with degree 10\n",
    "polynomial_features = PolynomialFeatures(degree=20)\n",
    "x_poly = polynomial_features.fit_transform(train_x)\n",
    "\n",
    "### YOUR CODE HERE - Plot your the curve on the training data set\n",
    "# Apply linear regression\n",
    "model = LinearRegression()\n",
    "model.fit(x_poly, train_y)\n",
    "y_poly_pred = model.predict(x_poly)\n",
    "\n",
    "# Plot the results\n",
    "plt.scatter(train_x, train_y, s=10)\n",
    "plt.plot(train_x, y_poly_pred, color='r')\n",
    "plt.show()\n",
    "### YOUR CODE HERE - Use model to predict output of validation set\n",
    "# Make predictions using pretrained model\n",
    "valid_y_poly_pred = model.predict(polynomial_features.fit_transform(valid_x))\n",
    "\n",
    "### YOUR CODE HERE - Calculate the RMSE. Report and plot the curve on the validation set.\n",
    "# Calculate mean squared error\n",
    "mse = mean_squared_error(valid_y, valid_y_poly_pred)\n",
    "print(\"Mean Squared Error: {}\".format(mse))\n",
    "# Plot the prediction results\n",
    "plt.scatter(valid_x, valid_y, s=10)\n",
    "plt.plot(valid_x, valid_y_poly_pred, color='r')\n",
    "plt.show()"
   ]
  },
  {
   "cell_type": "markdown",
   "metadata": {},
   "source": [
    "## Q1.4"
   ]
  },
  {
   "cell_type": "markdown",
   "metadata": {},
   "source": [
    "#### How does the mean square error compare to the previous two models? Why do you think this is the case?\n",
    "\n",
    "-------- ANSWER HERE -----------\n",
    "It is larger than the previous two models.\n",
    "As the model is more complex.When degree $=20$, the model is overfiting, it match more noise between data, so with a large degree $=20$, the squared error is larger."
   ]
  },
  {
   "cell_type": "markdown",
   "metadata": {},
   "source": [
    "## Question 2: Manual Implementation [50pts]"
   ]
  },
  {
   "cell_type": "markdown",
   "metadata": {},
   "source": [
    "Now it's time to appreciate the hard work that open source developers have put, in order to allow you to implemenent machine learning models without doing any math! No more Sci-Kit learn (or any other libraries like Tensorflow, Pytorch, etc) for the rest of this assignment!"
   ]
  },
  {
   "cell_type": "markdown",
   "metadata": {},
   "source": [
    "Your first step is to fit a **10-degree polynomial** to the dataset we have been using above. Then using your results, calculate the mean squared error on both the training and validation set. You may use general utility libraries like numpy and pandas matrix computations and data manipulation, but pre-existing implementations of the model itself is prohibited.\n",
    "\n",
    "A reminder that in polynomial regression, we are looking for a solution for the equation:\n",
    "\n",
    "&nbsp;&nbsp;&nbsp;&nbsp;&nbsp;&nbsp; ** $Y(X)$ = $W^T$ * $\\phi(X)$ ** \n",
    "\n",
    "where\n",
    "\n",
    "&nbsp;&nbsp;&nbsp;&nbsp;&nbsp;&nbsp; ** $\\phi(X)$ = [ $1$, $X$, $X^2$, $X^3$, ..... $X^n$ ] **\n",
    " \n",
    "and the ordinary least square solution in closed form is:\n",
    "\n",
    "&nbsp;&nbsp;&nbsp;&nbsp;&nbsp;&nbsp;** $W$ = $(X^T X)^{-1}X^TY$ **\n",
    "\n",
    "Make sure to review the slides, do some research, and/or ask for clarification if this doesn't make sense. You must understand the underlying math before being able to implement this properly.\n",
    "\n",
    "*Suggestion - Use the original pandas dataframes variables named train, valid, and test instead of the reshaped arrays that were used specifically for Sci-Kit Learn. It will make your computations cleaner and more inuitive.*\n",
    "\n",
    "Grading policy:\n",
    "- Q2.1 [15pts]\n",
    "    - Create the polynomial matrix ϕ(X) [2pts]\n",
    "    - Find the weighted matrix W [5pts]\n",
    "    - Make predictions on the training set, calculate and report the mean squared error [2pts]\n",
    "    - Plot the above results [2pts]\n",
    "    - Make predictions on the validation set, calculate and report the mean squared error [2pts]\n",
    "    - Plot the above results [2pts]\n",
    "- Q2.2 [3pts]\n",
    "    - Load dataset2.csv and split into 3 equal sets [2pts]\n",
    "    - Sort the data in order for plotting purposes later [1pt]\n",
    "- Q2.3 [2pts]\n",
    "- Q2.4 [30pts]\n",
    "    - Implement gradient decent [25pts]\n",
    "        - Correctness of the gradient [10pts]\n",
    "        - Correctness of the update in each iteration [10pts]\n",
    "        - Convergence of the algorithm [5pts]\n",
    "    - Calculate and report the mean squared error on both training and validation set [3pts]\n",
    "    - Plot the above results [2pts]"
   ]
  },
  {
   "cell_type": "markdown",
   "metadata": {},
   "source": [
    "## Q2.1"
   ]
  },
  {
   "cell_type": "code",
   "execution_count": 38,
   "metadata": {
    "collapsed": true
   },
   "outputs": [
    {
     "name": "stdout",
     "output_type": "stream",
     "text": [
      "Mean Squared Error: [[8.60066434]]\n"
     ]
    },
    {
     "data": {
      "image/png": "[encoded data removed]",
      "text/plain": [
       "<Figure size 432x288 with 1 Axes>"
      ]
     },
     "metadata": {
      "needs_background": "light"
     },
     "output_type": "display_data"
    },
    {
     "name": "stdout",
     "output_type": "stream",
     "text": [
      "Mean Squared Error: [[13.11519078]]\n"
     ]
    },
    {
     "data": {
      "image/png": "[encoded data removed]",
      "text/plain": [
       "<Figure size 432x288 with 1 Axes>"
      ]
     },
     "metadata": {
      "needs_background": "light"
     },
     "output_type": "display_data"
    }
   ],
   "source": [
    "# import numpy.matlib ##just for matrix math\n",
    "from scipy import linalg\n",
    "order = 10\n",
    "### YOUR CODE HERE - Create the polynomial matrix ϕ(X)\n",
    "trainSetSize  = len(train_x)\n",
    "col_size = order + 1\n",
    "phi_x = np.ones((trainSetSize, col_size),float)\n",
    "for i in range(trainSetSize):\n",
    "    for index in range(1,col_size):\n",
    "        phi_x[i][index] = phi_x[i][index-1]*train_x[i]\n",
    "Y = np.ones((trainSetSize, 1),float)\n",
    "for i in range(trainSetSize):\n",
    "   Y[i][0] = Y[i][0]*train_y[i]\n",
    "### YOUR CODE HERE - Find the weighted matrix W\n",
    "W = np.ones((col_size, 1),float)\n",
    "W = np.dot(np.dot(linalg.inv(np.dot(phi_x.T,phi_x)),phi_x.T),Y)\n",
    "### YOUR CODE HERE - Make predictions on the training set and calculate the mean squared error. Plot the results.\n",
    "pred_train_y = np.dot(phi_x,W)\n",
    "MSE = (np.dot((pred_train_y - Y).T, (pred_train_y - Y)))/trainSetSize\n",
    "print(\"Mean Squared Error: {}\".format(MSE))\n",
    "plt.scatter(train_x, train_y, s=10)\n",
    "plt.plot(train_x, pred_train_y, color='r')\n",
    "plt.show()\n",
    "### YOUR CODE HERE - Make predictions on the validation set and calculate the mean squared error. Plot the results.\n",
    "validSetSize  = len(valid_x)\n",
    "X_valid = np.ones((validSetSize, col_size),float)\n",
    "for i in range(validSetSize):\n",
    "    for index in range(1,col_size):\n",
    "        X_valid[i][index] = X_valid[i][index-1]*valid_x[i]\n",
    "Y_valid = np.ones((validSetSize, 1),float)\n",
    "for i in range(validSetSize):\n",
    "   Y_valid[i][0] = Y_valid[i][0]*valid_y[i]\n",
    "pred_valid_y = np.dot(X_valid,W)\n",
    "MSE = (np.dot((pred_valid_y - Y_valid).T, (pred_valid_y - Y_valid)))/validSetSize\n",
    "print(\"Mean Squared Error: {}\".format(MSE))\n",
    "plt.scatter(valid_x, valid_y, s=10)\n",
    "plt.plot(valid_x, pred_valid_y, color='r')\n",
    "plt.show()"
   ]
  },
  {
   "cell_type": "markdown",
   "metadata": {},
   "source": [
    "For the rest of the assignment, we will use the other dataset named **dataset2.csv**. First load the csv and split the model into train, valid, and test sets as shown earlier in the assignment."
   ]
  },
  {
   "cell_type": "markdown",
   "metadata": {},
   "source": [
    "## Q2.2"
   ]
  },
  {
   "cell_type": "code",
   "execution_count": null,
   "metadata": {
    "collapsed": true
   },
   "outputs": [],
   "source": [
    "### YOUR CODE HERE - Load dataset2.csv and split into 3 equal sets\n",
    "\n",
    "### YOUR CODE HERE - Sort the data in order for plotting purposes later\n"
   ]
  },
  {
   "cell_type": "markdown",
   "metadata": {},
   "source": [
    "Plot the data below to see what it looks like"
   ]
  },
  {
   "cell_type": "markdown",
   "metadata": {},
   "source": [
    "## Q2.3"
   ]
  },
  {
   "cell_type": "code",
   "execution_count": null,
   "metadata": {
    "collapsed": true
   },
   "outputs": [],
   "source": [
    "### YOUR CODE HERE - Plot the points for dataset2\n"
   ]
  },
  {
   "cell_type": "markdown",
   "metadata": {},
   "source": [
    "If done properly, you should see that the points fall under a relatively straight line with minor deviations. Looks like a perfect example to implement a linear regression model using the **gradient descent** method ..... without the use of any machine learning libraries!\n",
    "\n",
    "Since the data falls along a straight line, we can assume the solution follows the form:\n",
    "\n",
    "&nbsp;&nbsp;&nbsp;&nbsp;&nbsp;&nbsp; ** $y(x)$ = $m x$ + $b$ **\n",
    "\n",
    "A reminder that in gradient descent, we essentially want to iteratively get closer to the minimum of our objective function (the mean squared error), such that:\n",
    " \n",
    " &nbsp;&nbsp;&nbsp;&nbsp;&nbsp;&nbsp; ** MSE($w_0$) > MSE($w_1$) > MSE($w_2$) > ...**\n",
    "\n",
    "The algorithm is as follows:\n",
    "\n",
    "&nbsp;&nbsp;&nbsp;&nbsp;&nbsp;&nbsp; ** 1) Pick initial $w_0$ randomnly. **\n",
    "\n",
    "&nbsp;&nbsp;&nbsp;&nbsp;&nbsp;&nbsp; ** 2) For $k=1,2..$ $\\Rightarrow$ $w_{k+1}$ = $w_k$ - $\\alpha$  $g(w_k)$  where $\\alpha > 0$ is the learning rate and $g(w_k)$ is the gradient. **\n",
    "\n",
    "&nbsp;&nbsp;&nbsp;&nbsp;&nbsp;&nbsp; ** End when | $w_k$ + $1$ - $w_k$ | < $\\epsilon$ **\n",
    "\n",
    "\n",
    "There are many resources online for gradient descent. You must understand the underlying math before being able to implement this properly.\n",
    "\n",
    "Now once you understand, it is time to implement the gradient descent below. You may set the learning rate to 1e-6 or whatever value you think is best. As usual, calculate the mean squared error and plot your results. This time, training should be done using the training and validation sets, while the final mean squared error should be computed using the testing set."
   ]
  },
  {
   "cell_type": "markdown",
   "metadata": {},
   "source": [
    "## Q2.4"
   ]
  },
  {
   "cell_type": "code",
   "execution_count": null,
   "metadata": {},
   "outputs": [],
   "source": [
    "### YOUR CODE HERE - Implement gradient decent\n",
    "\n",
    "### YOUR CODE HERE - Calculate the mean squared error on both training and validation set and plot the results."
   ]
  }
 ],
 "metadata": {
  "kernelspec": {
   "display_name": "Python 3",
   "language": "python",
   "name": "python3"
  },
  "language_info": {
   "codemirror_mode": {
    "name": "ipython",
    "version": 3
   },
   "file_extension": ".py",
   "mimetype": "text/x-python",
   "name": "python",
   "nbconvert_exporter": "python",
   "pygments_lexer": "ipython3",
   "version": "3.9.7"
  },
  "toc": {
   "base_numbering": 1,
   "nav_menu": {},
   "number_sections": false,
   "sideBar": false,
   "skip_h1_title": false,
   "title_cell": "Table of Contents",
   "title_sidebar": "Contents",
   "toc_cell": false,
   "toc_position": {},
   "toc_section_display": false,
   "toc_window_display": false
  }
 },
 "nbformat": 4,
 "nbformat_minor": 2
}
