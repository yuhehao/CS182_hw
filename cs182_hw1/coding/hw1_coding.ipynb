{
 "cells": [
  {
   "cell_type": "markdown",
   "metadata": {},
   "source": [
    "# Homework 1: $k$-Nearest Neighbors ($k$-NN)"
   ]
  },
  {
   "cell_type": "markdown",
   "metadata": {},
   "source": [
    "For this assignment, answer directly on this Jupyter notebook. Once you're done, please submit the assignment as \"Name_hw1_coding.pdf\".\n",
    "\n",
    "*Don't forget that commenting your code is very important!*"
   ]
  },
  {
   "cell_type": "markdown",
   "metadata": {},
   "source": [
    "\n",
    "\n",
    "\n",
    "###  $k$-NN Implementation\n",
    "\n",
    "- Implement the $k$-NN algorithm by hand (ie. Don't use the sklearn implementation).\n",
    "- Evaluate and plot model performance for different values of $k$.\n",
    "\n",
    "For this question, we will be using the classic Iris dataset, available in sklearn."
   ]
  },
  {
   "cell_type": "markdown",
   "metadata": {},
   "source": [
    "### 1. Import packages\n",
    "\n",
    "###### Importing packages and knowing what packages you need for a project is crucial. We will not be reminding you which packages you need for each question and for the assignment in general. Please import the packages at your own discretion. Although it is common practice to import all packages at once at the beginning, don't hesitate to revisit the next cell, and import more packages as you may need. "
   ]
  },
  {
   "cell_type": "code",
   "execution_count": 1,
   "metadata": {},
   "outputs": [],
   "source": [
    "# Implement kNN by hand. It might be useful to store all distances in one array/list\n",
    "\n",
    "import pandas as pd\n",
    "import numpy as np\n",
    "import matplotlib.pyplot as plt\n",
    "import math\n",
    "import operator\n",
    "\n",
    "from sklearn.datasets import load_iris\n",
    "from sklearn.utils import shuffle"
   ]
  },
  {
   "cell_type": "markdown",
   "metadata": {},
   "source": [
    "### 2. Load the Iris dataset"
   ]
  },
  {
   "cell_type": "code",
   "execution_count": 2,
   "metadata": {},
   "outputs": [
    {
     "data": {
      "text/html": [
       "<div>\n",
       "<style scoped>\n",
       "    .dataframe tbody tr th:only-of-type {\n",
       "        vertical-align: middle;\n",
       "    }\n",
       "\n",
       "    .dataframe tbody tr th {\n",
       "        vertical-align: top;\n",
       "    }\n",
       "\n",
       "    .dataframe thead th {\n",
       "        text-align: right;\n",
       "    }\n",
       "</style>\n",
       "<table border=\"1\" class=\"dataframe\">\n",
       "  <thead>\n",
       "    <tr style=\"text-align: right;\">\n",
       "      <th></th>\n",
       "      <th>sepal length (cm)</th>\n",
       "      <th>sepal width (cm)</th>\n",
       "      <th>petal length (cm)</th>\n",
       "      <th>petal width (cm)</th>\n",
       "      <th>target</th>\n",
       "    </tr>\n",
       "  </thead>\n",
       "  <tbody>\n",
       "    <tr>\n",
       "      <th>0</th>\n",
       "      <td>5.1</td>\n",
       "      <td>3.5</td>\n",
       "      <td>1.4</td>\n",
       "      <td>0.2</td>\n",
       "      <td>0.0</td>\n",
       "    </tr>\n",
       "    <tr>\n",
       "      <th>1</th>\n",
       "      <td>4.9</td>\n",
       "      <td>3.0</td>\n",
       "      <td>1.4</td>\n",
       "      <td>0.2</td>\n",
       "      <td>0.0</td>\n",
       "    </tr>\n",
       "    <tr>\n",
       "      <th>2</th>\n",
       "      <td>4.7</td>\n",
       "      <td>3.2</td>\n",
       "      <td>1.3</td>\n",
       "      <td>0.2</td>\n",
       "      <td>0.0</td>\n",
       "    </tr>\n",
       "    <tr>\n",
       "      <th>3</th>\n",
       "      <td>4.6</td>\n",
       "      <td>3.1</td>\n",
       "      <td>1.5</td>\n",
       "      <td>0.2</td>\n",
       "      <td>0.0</td>\n",
       "    </tr>\n",
       "    <tr>\n",
       "      <th>4</th>\n",
       "      <td>5.0</td>\n",
       "      <td>3.6</td>\n",
       "      <td>1.4</td>\n",
       "      <td>0.2</td>\n",
       "      <td>0.0</td>\n",
       "    </tr>\n",
       "  </tbody>\n",
       "</table>\n",
       "</div>"
      ],
      "text/plain": [
       "   sepal length (cm)  sepal width (cm)  petal length (cm)  petal width (cm)  \\\n",
       "0                5.1               3.5                1.4               0.2   \n",
       "1                4.9               3.0                1.4               0.2   \n",
       "2                4.7               3.2                1.3               0.2   \n",
       "3                4.6               3.1                1.5               0.2   \n",
       "4                5.0               3.6                1.4               0.2   \n",
       "\n",
       "   target  \n",
       "0     0.0  \n",
       "1     0.0  \n",
       "2     0.0  \n",
       "3     0.0  \n",
       "4     0.0  "
      ]
     },
     "execution_count": 2,
     "metadata": {},
     "output_type": "execute_result"
    }
   ],
   "source": [
    "# loading dataset\n",
    "iris = load_iris()\n",
    "iris_df = pd.DataFrame(data= np.c_[iris['data'], iris['target']],\n",
    "                     columns= iris['feature_names'] + ['target'])\n",
    "\n",
    "# Preview dataset\n",
    "iris_df.head()"
   ]
  },
  {
   "cell_type": "markdown",
   "metadata": {},
   "source": [
    "###### In order to evaluate the performance of our kNN implementation, we first split the dataset into training and test sets. A 70/30 split or something similar should suffice. Remember class balance within both train/test sets is important."
   ]
  },
  {
   "cell_type": "code",
   "execution_count": 3,
   "metadata": {},
   "outputs": [],
   "source": [
    "### YOUR CODE HERE - Shuffle dataset, then split for balanced classes\n",
    "def reset_data():\n",
    "    tmp = shuffle(iris_df)\n",
    "    row = len(tmp)\n",
    "    trainingSet_temp = tmp.head((int)(row*0.7))\n",
    "    testSet_temp = tmp.tail(row-(int)(row*0.7))\n",
    "    trainingSet = trainingSet_temp.values.tolist()\n",
    "    testSet = testSet_temp.values.tolist()\n",
    "    return (trainingSet,testSet)\n"
   ]
  },
  {
   "cell_type": "markdown",
   "metadata": {},
   "source": [
    "### 3. Defining a distance metric\n",
    "\n",
    "###### To define similarity between two given points, we must define a distance metric. Write a method that takes  two points as input and returns the distance between the points. Look at the format of each point in the sample case below."
   ]
  },
  {
   "cell_type": "code",
   "execution_count": 4,
   "metadata": {},
   "outputs": [],
   "source": [
    "### YOUR CODE HERE - Write method that returns Euclidean distance between two points, last element in point array is class \n",
    "# from scipy.spatial import distance\n",
    "def getDistance(p1, p2):\n",
    "    \"\"\" \n",
    "    p1:  a numpy array, last element of the array is the class of the point\n",
    "    p2:  a numpy array, last element of the array is the class of the point\n",
    "    Calculates the Euclidean distance between two points. Returns dist float\n",
    "    \"\"\"\n",
    "    # return distance.euclidean(p1[:-1].astype(np.float32),p2[:-1].astype(np.float32))#using the scipy libruary to get fast.\n",
    "    sum = 0.0\n",
    "    for i in range(len(p1)-1):\n",
    "        # print(p1[i])\n",
    "        # print(p2[i])\n",
    "        sum += (p1[i]-p2[i])**2\n",
    "    return sum**0.5"
   ]
  },
  {
   "cell_type": "markdown",
   "metadata": {},
   "source": [
    "######  Let's test our newly written method on the following samples."
   ]
  },
  {
   "cell_type": "code",
   "execution_count": 5,
   "metadata": {},
   "outputs": [],
   "source": [
    "# data1 = [2, 2, 2, 'a']\n",
    "# data2 = [4, 4, 4, 'b']\n",
    "# for i in range(1000000):distance = getDistance(data1, data2)\n",
    "\n",
    "# print(distance)"
   ]
  },
  {
   "cell_type": "markdown",
   "metadata": {},
   "source": [
    "### 4. Finding k nearest neighbours\n",
    "\n",
    "###### Now that we've defined a distance metric, we can use it collect the k most similar instances for a new test instance. Write a method calculating the distance between a test point and all training instances, selecting a subset with the smallest distance values. It might be useful to store all the distances in a list/array, since Python has a built-in sorting function."
   ]
  },
  {
   "cell_type": "code",
   "execution_count": 6,
   "metadata": {},
   "outputs": [],
   "source": [
    "### YOUR CODE HERE - Write method calculating the distance for all instances, selecting a subset with the smallest distance values.\n",
    "import heapq # to make this program fast\n",
    "def getNeighbours(trainingSet, sample, k):\n",
    "    \"\"\"\n",
    "    trainingSet: a list of points, where each point is a numpy array and the last element of the array is the class of the point\n",
    "    sample: a numpy array, last element of the array is the class of the point\n",
    "    k: positive integer \n",
    "    \n",
    "    Calculates k nearest neighbours using a distance metric. \n",
    "    \n",
    "    Returns neighbours list\n",
    "    \"\"\"\n",
    "    x = len(trainingSet)\n",
    "    temp = np.zeros(x)\n",
    "    for i in range(x):\n",
    "        a = getDistance(trainingSet[i],sample)\n",
    "        temp[i] = a\n",
    "    # max_index = np.where(heapq.nlargest(k, temp))[0]\n",
    "    # list0=[]\n",
    "    # for i in max_index:\n",
    "    #     print(i)\n",
    "    #     list0.append(trainingSet[i])\n",
    "    # return list0\n",
    "    idx = (temp).argsort()[:k]\n",
    "    list0=[]\n",
    "    for i in idx:\n",
    "        list0.append(trainingSet[i])\n",
    "    return list0\n"
   ]
  },
  {
   "cell_type": "markdown",
   "metadata": {},
   "source": [
    "######  Let's test our newly written method on the following samples."
   ]
  },
  {
   "cell_type": "code",
   "execution_count": 7,
   "metadata": {},
   "outputs": [],
   "source": [
    "# trainSet = [[2, 2, 2, 'a'], [4, 4, 4, 'b']]\n",
    "# testInstance = [5, 5, 5]\n",
    "\n",
    "# neighbors = getNeighbours(trainSet, testInstance, 1)\n",
    "# print(neighbors)"
   ]
  },
  {
   "cell_type": "markdown",
   "metadata": {},
   "source": [
    "###### Now to build a prediction model, write a method that returns a prediction given k nearest neighbours from the previous method. (Hint: one way you can do this is to build a dictionary, and sort the key-value pairs to determine which class occurs the most often!)"
   ]
  },
  {
   "cell_type": "code",
   "execution_count": 8,
   "metadata": {},
   "outputs": [],
   "source": [
    "### YOUR CODE HERE - Write method that takes in k nearest neighbours as input, and votes based on the majority class.\n",
    "\n",
    "def predict(neighbours):\n",
    "    \"\"\" \n",
    "    neighbours: a list of points, where each point is a numpy array and the last element of the array is the class of the point\n",
    "    \n",
    "    Returns predicted class response in string format based off majority vote from k neighbours set \n",
    "    \"\"\"\n",
    "    temp_list=[]\n",
    "    for i in neighbours:\n",
    "        temp_list.append(i[-1])\n",
    "    return max(set(temp_list),key=temp_list.count)\n"
   ]
  },
  {
   "cell_type": "markdown",
   "metadata": {},
   "source": [
    "###### Test your method on the following samples"
   ]
  },
  {
   "cell_type": "code",
   "execution_count": 9,
   "metadata": {},
   "outputs": [],
   "source": [
    "# neighbors = [[1,1,1,'a'], [2,2,2,'a'], [3,3,3,'b']]\n",
    "# response = predict(neighbors)\n",
    "# print(response)"
   ]
  },
  {
   "cell_type": "markdown",
   "metadata": {},
   "source": [
    "### 5. Measuring Model Performance\n",
    "\n",
    "######  We're basically ready to test the performance of our very own $k$-NN implementation! One popular classification metric is accuracy, use the following method to check how well our $k$-NN algorithm performs on the test set we left aside."
   ]
  },
  {
   "cell_type": "code",
   "execution_count": 10,
   "metadata": {},
   "outputs": [],
   "source": [
    "def getAccuracy(testSet, predictions):\n",
    "    correct = 0\n",
    "    for x in range(len(testSet)):\n",
    "        if (testSet[x][-1] == predictions[x]):\n",
    "            correct += 1\n",
    "    return (correct/float(len(testSet))) * 100.0"
   ]
  },
  {
   "cell_type": "markdown",
   "metadata": {},
   "source": [
    "##### Test the method on the following samples."
   ]
  },
  {
   "cell_type": "code",
   "execution_count": 11,
   "metadata": {},
   "outputs": [],
   "source": [
    "# testSet = [[1,1,1,'a'], [2,2,2,'a'], [3,3,3,'b']]\n",
    "# predictions = ['a', 'a', 'a']\n",
    "# accuracy = getAccuracy(testSet, predictions)\n",
    "# print(accuracy)"
   ]
  },
  {
   "cell_type": "markdown",
   "metadata": {},
   "source": [
    "######  Make predictions on the test set for different values of $k$. Compare the accuracy for different values and plot test performance, explaining why you think performance increases or decreases for different values of k (WRITE ANSWER IN BOX BELOW PLOT). Loop from $k=1$ to $k=49$ (inclusively), only considering cases where k is odd."
   ]
  },
  {
   "cell_type": "code",
   "execution_count": 16,
   "metadata": {},
   "outputs": [
    {
     "name": "stdout",
     "output_type": "stream",
     "text": [
      "(1, 6.340343693777534)\n",
      "(3, 5.842049754947586)\n",
      "(5, 7.254048017867119)\n",
      "(7, 5.305415968732552)\n",
      "(9, 6.159066939636453)\n",
      "(11, 5.354054221725915)\n",
      "(13, 7.109125876295039)\n",
      "(15, 9.934115019542165)\n",
      "(17, 8.357342266890011)\n",
      "(19, 10.22346299398224)\n",
      "(21, 10.03089521682484)\n",
      "(23, 10.460202245796873)\n",
      "(25, 10.332650908865327)\n",
      "(27, 9.816862088218864)\n",
      "(29, 11.222036106458242)\n",
      "(31, 12.70240089335567)\n",
      "(33, 13.771449841801568)\n",
      "(35, 19.286059929276046)\n",
      "(37, 16.878342328928582)\n",
      "(39, 15.801972827098421)\n",
      "(41, 19.434952540480154)\n",
      "(43, 16.89422420745698)\n",
      "(45, 16.839630250015503)\n",
      "(47, 17.638687263477873)\n",
      "(49, 16.58552019356039)\n",
      "(51, 0.0)\n",
      "(53, 0.0)\n",
      "(55, 0.0)\n",
      "(57, 0.0)\n",
      "(59, 0.0)\n",
      "(61, 0.0)\n",
      "(63, 0.0)\n",
      "(65, 0.0)\n",
      "(67, 0.0)\n",
      "(69, 0.0)\n",
      "(71, 0.0)\n",
      "(73, 0.0)\n",
      "(75, 0.0)\n",
      "(77, 0.0)\n",
      "(79, 0.0)\n",
      "(81, 0.0)\n",
      "(83, 0.0)\n",
      "(85, 0.0)\n",
      "(87, 0.0)\n",
      "(89, 0.0)\n",
      "(91, 0.0)\n",
      "(93, 0.0)\n",
      "(95, 0.0)\n",
      "(97, 0.0)\n",
      "(99, 0.0)\n",
      "(101, 0.0)\n",
      "(103, 0.0)\n"
     ]
    }
   ],
   "source": [
    "### YOUR CODE HERE - Create a dictionary to store accuracies for different values of $k$.\n",
    "N = 200\n",
    "avg = np.zeros(max(N,105))\n",
    "dict_k={}\n",
    "bias = {}\n",
    "count = []\n",
    "var = np.zeros(max(N,105))\n",
    "# for a in range(N):\n",
    "#     (trainingSet,testSet)=reset_data()\n",
    "#     x = len(testSet)\n",
    "#     pred_temp = []\n",
    "#     for k in range(1,50,2):\n",
    "#         predictions = []\n",
    "#         for i in testSet:\n",
    "#             predictions.append(predict(getNeighbours(trainingSet,i,k=k)))\n",
    "#         y = getAccuracy(testSet,predictions)\n",
    "#         pred_temp.append(y)\n",
    "#         temp[k]+=y\n",
    "#     count.append(pred_temp)\n",
    "for k in range(1,50,2):\n",
    "    pred_temp = []\n",
    "    for a in range(N):\n",
    "        predictions = []\n",
    "        (trainingSet,testSet)=reset_data()\n",
    "        for i in testSet:\n",
    "            predictions.append(predict(getNeighbours(trainingSet,i,k=k)))\n",
    "        y = getAccuracy(testSet,predictions)\n",
    "        pred_temp.append(y)\n",
    "        avg[k] += y\n",
    "    avg[k] /= N\n",
    "    for b in range(N):\n",
    "        var[k] += (avg[k]-pred_temp[b])**2/(N-1)\n",
    "    dict_k[k] = avg[k]\n",
    "    bias[k] = 100 - dict_k[k]\n",
    "\n",
    "for k in range(1,105,2):\n",
    "    print((k,var[k]))\n",
    "\n"
   ]
  },
  {
   "cell_type": "markdown",
   "metadata": {},
   "source": [
    "##### Plot a bar chart, having the different values of $k$ on the x-axis and the test accuracy (in %) on the y-axis. Add a plot title, and choose a suitable format for readability."
   ]
  },
  {
   "cell_type": "code",
   "execution_count": 18,
   "metadata": {},
   "outputs": [
    {
     "data": {
      "image/png": "[encoded data removed]",
      "text/plain": [
       "<Figure size 432x288 with 1 Axes>"
      ]
     },
     "metadata": {
      "needs_background": "light"
     },
     "output_type": "display_data"
    },
    {
     "data": {
      "image/png": "[encoded data removed]",
      "text/plain": [
       "<Figure size 432x288 with 3 Axes>"
      ]
     },
     "metadata": {
      "needs_background": "light"
     },
     "output_type": "display_data"
    }
   ],
   "source": [
    "### YOUR CODE HERE - Create a bar plot\n",
    "x_k = []\n",
    "y_acc = []\n",
    "y_bias = []\n",
    "y_var = []\n",
    "y_epe = []\n",
    "for i in dict_k: \n",
    "    x_k.append(i)\n",
    "    y_acc.append(dict_k[i])\n",
    "    y_bias.append(bias[i])\n",
    "    y_var.append(var[i])\n",
    "    y_epe.append(bias[i]**2+var[i])\n",
    "plt.figure()\n",
    "plt.bar(x_k,y_acc)\n",
    "plt.xlabel(\"k\")\n",
    "plt.ylabel(\"Accuracy\")\n",
    "plt.ylim(bottom=85)\n",
    "plt.title(\"the diff k has diff Accuracy (optimal k is 11)\")\n",
    "plt.show()\n",
    "\n",
    "plt.figure()\n",
    "plt.subplot(1,3,1)\n",
    "plt.bar(x_k,y_bias)\n",
    "plt.xlabel(\"k\")\n",
    "plt.ylabel(\"bias\")\n",
    "plt.title(\"diff bias (optimal k is 11)\")\n",
    "\n",
    "plt.subplot(1,3,2)\n",
    "plt.bar(x_k,y_var)\n",
    "plt.xlabel(\"k\")\n",
    "plt.ylabel(\"var\")\n",
    "plt.title(\"diff var \")\n",
    "\n",
    "plt.subplot(1,3,3)\n",
    "plt.bar(x_k,y_epe)\n",
    "plt.xlabel(\"k\")\n",
    "plt.ylabel(\"epe\")\n",
    "plt.title(\"diff epe (optimal k is 11)\")\n",
    "plt.show()\n",
    "\n"
   ]
  },
  {
   "cell_type": "markdown",
   "metadata": {},
   "source": [
    "### <span style=\"background-color: #F9F2EB\">fenxi </span>\n",
    "*(Hint: think of the bias-variance trade-off/ AND underfitting/overfitting)*"
   ]
  }
 ],
 "metadata": {
  "kernelspec": {
   "display_name": "Python 3",
   "language": "python",
   "name": "python3"
  },
  "language_info": {
   "codemirror_mode": {
    "name": "ipython",
    "version": 3
   },
   "file_extension": ".py",
   "mimetype": "text/x-python",
   "name": "python",
   "nbconvert_exporter": "python",
   "pygments_lexer": "ipython3",
   "version": "3.9.7"
  }
 },
 "nbformat": 4,
 "nbformat_minor": 2
}
